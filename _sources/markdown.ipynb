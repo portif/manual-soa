{
 "cells": [
  {
   "cell_type": "markdown",
   "id": "processed-devil",
   "metadata": {},
   "source": [
    "# Arquivos Markdown\n",
    "\n",
    "Quer você escreva o conteúdo do seu livro em Jupyter Notebooks (`.ipynb`) ou em arquivos de markdown regulares (`.md`), você escreverá no mesmo tipo de markdown chamado **MyST Markdown**.\n",
    "\n",
    "## O que é MyST?\n",
    "\n",
    "MyST significa \"texto estruturado marcadamente\". Isto\n",
    "é uma ligeira variação de um tipo de markdown chamado markdown \"CommonMark\", com pequenas extensões de sintaxe para permitir que você escreva **funções** e **diretivas** no ecossistema da Esfinge.\n",
    "\n",
    "## O que são funções e diretivas?\n",
    "\n",
    "Funções e diretivas são duas das ferramentas mais poderosas do Jupyter Book. Eles são funções semelhantes, mas escritas em uma linguagem de marcação. Ambos servem a um propósito semelhante, mas **funções são escritas em uma linha**, enquanto\n",
    "**as diretivas abrangem muitas linhas**. Ambos aceitam diferentes tipos de entradas, e o que eles fazem com essas entradas depende da função ou diretiva específica que está sendo chamado.\n",
    "\n",
    "### Usando uma diretiva\n",
    "\n",
    "Na sua forma mais simples, você pode inserir uma diretiva no conteúdo do seu livro da seguinte forma:\n",
    "\n",
    "````\n",
    "```{nome-de-minha-diretiva}\n",
    "Conteúdo de minha diretiva\n",
    "```\n",
    "````\n",
    "\n",
    "Isso só funcionará se uma diretiva com o nome `mydirectivename` já existir (o que não acontece). Existem muitas diretivas predefinidas associadas a Livro de Jupyter. Por exemplo, para inserir uma caixa de nota em seu conteúdo, você pode use a seguinte diretiva:\n",
    "\n",
    "````\n",
    "```{note}\n",
    "Aqui é uma nota\n",
    "```\n",
    "````\n",
    "\n",
    "O resultado é:\n",
    "\n",
    "```{note}\n",
    "Aqui é uma nota\n",
    "```\n",
    "\n",
    "Em seu livro construído.\n",
    "\n",
    "Para obter mais informações sobre como escrever diretivas, consulte o\n",
    "[Documentação MyST](https://myst-parser.readthedocs.io/)."
   ]
  },
  {
   "cell_type": "markdown",
   "id": "difficult-algeria",
   "metadata": {},
   "source": [
    "### Usando uma função\n",
    "\n",
    "As funções são muito semelhantes às diretivas, mas são menos complexas e escritas inteiramente em uma linha.Você pode inserir uma função no conteúdo do seu livro com esse padrão:\n",
    "\n",
    "```\n",
    "Algum conteúdo {rolename}`e aqui está o conteúdo da minha função!`\n",
    "```\n",
    "\n",
    "Novamente, os papéis só funcionarão se `rolename` for um nome de papel válido. Por exemplo, a função `doc` pode ser usada para se referir a outra página em seu livro. Você pode se referir diretamente a outra página por seu caminho relativo. Por exemplo, a sintaxe da função `` {doc}`intro` `` resultará em: {doc}` intro`.\n",
    "\n",
    "Para obter mais informações sobre como escrever funções, consulte o\n",
    "[Documentação MyST](https://myst-parser.readthedocs.io/).\n",
    "\n",
    "### Adicionando uma citação\n",
    "\n",
    "Você também pode citar referências que estão armazenadas em um arquivo `bibtex`. Por exemplo, a seguinte sintaxe: `` {cite}`holdgraf_evidence_2014` `` será renderizada assim: {cite}`holdgraf_evidence_2014`.\n",
    "\n",
    "Além disso, você pode inserir uma bibliografia em sua página com esta sintaxe. A diretiva `{bibliography}` deve ser usada para que todas as funções `{cite}` sejam renderizadas corretamente. Por exemplo, se as referências para o seu livro estão armazenadas em `referencias.bib`, então a bibliografia é inserida com:\n",
    "\n",
    "````\n",
    "```{bibliography} referencias.bib\n",
    "```\n",
    "````\n",
    "\n",
    "Resultando em uma bibliografia renderizada que se parece com:\n",
    "\n",
    "```{bibliography} referencias.bib\n",
    "```\n",
    "\n",
    "### Executando código em seus arquivos markdown\n",
    "\n",
    "Se você gostaria de incluir conteúdo computacional dentro desses arquivos markdown, você pode usar MyST Markdown para definir células que serão executadas quando seu livro é construído. O Jupyter Book usa *jupytext* para fazer isso.\n",
    "\n",
    "Primeiro, adicione metadados Jupytext ao arquivo. Por exemplo, para adicionar metadados Jupytext para esta página de redução, execute este comando:\n",
    "\n",
    "```\n",
    "jupyter-book myst init markdown.md\n",
    "```\n",
    "\n",
    "Uma vez que um arquivo markdown contém metadados Jupytext, você pode adicionar o seguinte diretiva para executar o código em tempo de compilação:\n",
    "\n",
    "````\n",
    "```{code-cell}\n",
    "print(\"Aqui está um código para executar\")\n",
    "```\n",
    "````\n",
    "\n",
    "Quando seu livro for construído, o conteúdo de qualquer bloco `{code-cell}` será executado com seu kernel Jupyter padrão, e suas saídas serão exibidas em linha com o resto do seu conteúdo."
   ]
  },
  {
   "cell_type": "code",
   "execution_count": 1,
   "id": "usual-palace",
   "metadata": {},
   "outputs": [
    {
     "name": "stdout",
     "output_type": "stream",
     "text": [
      "Aqui está um código para executar\n"
     ]
    }
   ],
   "source": [
    "print(\"Aqui está um código para executar\")"
   ]
  },
  {
   "cell_type": "markdown",
   "id": "middle-silence",
   "metadata": {},
   "source": [
    "Para obter mais informações sobre a execução de conteúdo computacional com o Jupyter Book, consulte [The MyST-NB documentation](https://myst-nb.readthedocs.io/)."
   ]
  }
 ],
 "metadata": {
  "jupytext": {
   "cell_metadata_filter": "-all",
   "formats": "md:myst",
   "text_representation": {
    "extension": ".md",
    "format_name": "myst",
    "format_version": 0.12,
    "jupytext_version": "1.9.1"
   }
  },
  "kernelspec": {
   "display_name": "Python 3",
   "language": "python",
   "name": "python3"
  },
  "language_info": {
   "codemirror_mode": {
    "name": "ipython",
    "version": 3
   },
   "file_extension": ".py",
   "mimetype": "text/x-python",
   "name": "python",
   "nbconvert_exporter": "python",
   "pygments_lexer": "ipython3",
   "version": "3.8.5"
  },
  "source_map": [
   14,
   59,
   110,
   112
  ]
 },
 "nbformat": 4,
 "nbformat_minor": 5
}